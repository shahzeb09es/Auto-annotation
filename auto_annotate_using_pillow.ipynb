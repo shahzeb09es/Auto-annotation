{
 "cells": [
  {
   "cell_type": "code",
   "execution_count": 1,
   "id": "359089f1",
   "metadata": {},
   "outputs": [],
   "source": [
    "# Importing required dependencies \n",
    "from PIL import Image\n",
    "import random\n",
    "from pascal_voc_writer import Writer\n",
    "import os"
   ]
  },
  {
   "cell_type": "code",
   "execution_count": 2,
   "id": "74834fe3",
   "metadata": {},
   "outputs": [],
   "source": [
    "# Setting up the directories\n",
    "\n",
    "background_dir = os.path.join('Medium', 'Background')\n",
    "object_dir = os.path.join('Medium', 'Objects')\n",
    "pasted_dir = os.path.join('Medium', 'Pasted_images')"
   ]
  },
  {
   "cell_type": "code",
   "execution_count": 3,
   "id": "c36995fd",
   "metadata": {},
   "outputs": [],
   "source": [
    "def auto_annotate(background, image, pasted_dir, name, theta, width, height):\n",
    "    pasted_image = background.copy()\n",
    "    im2= image.convert('RGBA').rotate(theta, expand=True).resize((width,height))\n",
    "    \n",
    "    \n",
    "    xmin = 600\n",
    "    ymin = 432\n",
    "    xmax = xmin + im2.size[0]\n",
    "    ymax = ymin + im2.size[1]\n",
    "    \n",
    "    pasted_image.paste(im2, (xmin, ymin), im2) # Pasting the cat object\n",
    "    pasted_image.save(f\"{pasted_dir}/{name}.jpg\")\n",
    "    \n",
    "    writer = Writer(f\"{pasted_dir}/{name}.jpg\", pasted_image.size[0], pasted_image.size[1])\n",
    "    writer.addObject('cat', xmin, ymin, xmax, ymax)\n",
    "    writer.save(f\"{pasted_dir}/{name}.xml\")"
   ]
  },
  {
   "cell_type": "code",
   "execution_count": 4,
   "id": "75d21483",
   "metadata": {},
   "outputs": [],
   "source": [
    "background_path = os.path.join('Medium', 'Background', 'Back1.jpg')\n",
    "background = Image.open(background_path)\n",
    "\n",
    "for objectim in os.listdir(object_dir):\n",
    "    object_path = os.path.join('Medium', 'Objects', objectim)\n",
    "    image = Image.open(object_path)\n",
    "    \n",
    "    object_name = image.filename.split('\\\\')[2].split('.')[0]\n",
    "    back_name = background.filename.split('\\\\')[2].split('.')[0]\n",
    "    name=back_name+'_'+object_name\n",
    "    \n",
    "    auto_annotate(background, image, pasted_dir, name, theta=0, width=300, height=300)\n",
    "\n"
   ]
  }
 ],
 "metadata": {
  "kernelspec": {
   "display_name": "TensorFlow",
   "language": "python",
   "name": "tensorflow"
  },
  "language_info": {
   "codemirror_mode": {
    "name": "ipython",
    "version": 3
   },
   "file_extension": ".py",
   "mimetype": "text/x-python",
   "name": "python",
   "nbconvert_exporter": "python",
   "pygments_lexer": "ipython3",
   "version": "3.10.9"
  }
 },
 "nbformat": 4,
 "nbformat_minor": 5
}
